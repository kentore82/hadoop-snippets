{
 "cells": [
  {
   "cell_type": "code",
   "execution_count": null,
   "metadata": {
    "collapsed": true
   },
   "outputs": [],
   "source": [
    "import json\n",
    "import urllib2"
   ]
  },
  {
   "cell_type": "code",
   "execution_count": 19,
   "metadata": {
    "ExecuteTime": {
     "end_time": "2016-11-04T11:36:02.355543",
     "start_time": "2016-11-04T11:36:02.331171"
    },
    "collapsed": true
   },
   "outputs": [],
   "source": [
    "url='http://localhost:8983/solr/ais_collection/schema?wt=json'\n",
    "conn=urllib2.urlopen(url)\n",
    "\n",
    "rsp=json.load(conn)"
   ]
  },
  {
   "cell_type": "code",
   "execution_count": 45,
   "metadata": {
    "ExecuteTime": {
     "end_time": "2016-11-04T11:59:12.657877",
     "start_time": "2016-11-04T11:59:12.649461"
    },
    "collapsed": false
   },
   "outputs": [
    {
     "name": "stdout",
     "output_type": "stream",
     "text": [
      "{u'indexed': True, u'stored': True, u'type': u'long', u'name': u'_version_'}\n",
      "{u'indexed': True, u'stored': True, u'required': True, u'type': u'string', u'name': u'byggtype'}\n",
      "{u'indexed': True, u'stored': True, u'required': True, u'type': u'tdouble', u'name': u'frekvens'}\n",
      "{u'indexed': True, u'stored': True, u'required': True, u'type': u'tint', u'name': u'frekvens_enova'}\n",
      "{u'indexed': True, u'stored': True, u'required': True, u'type': u'tint', u'name': u'frekvens_sluttbruker'}\n",
      "{u'indexed': True, u'stored': True, u'required': True, u'type': u'string', u'name': u'id'}\n",
      "{u'indexed': True, u'stored': True, u'required': True, u'type': u'string', u'name': u'kanal'}\n",
      "{u'indexed': True, u'stored': True, u'required': True, u'type': u'tint', u'name': u'kommunenummer'}\n",
      "{u'indexed': True, u'stored': True, u'required': True, u'type': u'tint', u'name': u'maaleID'}\n",
      "{u'indexed': True, u'stored': True, u'required': True, u'type': u'string', u'name': u'type'}\n"
     ]
    }
   ],
   "source": [
    "fields= rsp['schema'][\"fields\"]\n",
    "\n",
    "for field in fields:\n",
    "    print field\n",
    "    "
   ]
  },
  {
   "cell_type": "code",
   "execution_count": 48,
   "metadata": {
    "ExecuteTime": {
     "end_time": "2016-11-04T12:04:13.836540",
     "start_time": "2016-11-04T12:04:13.802946"
    },
    "collapsed": false
   },
   "outputs": [
    {
     "name": "stdout",
     "output_type": "stream",
     "text": [
      "<html>\n",
      "<head>\n",
      "   <title>Status page</title>\n",
      "</head>\n",
      "<body style=\"font-family: sans-serif;\">\n",
      "<p style=\"font-size: 1.2em;font-weight: bold;margin: 1em 0px;\">Method Not Allowed</p>\n",
      "<p>The method specified in the request is not allowed for the resource identified by the request URI</p>\n",
      "<p>You can get technical details <a href=\"http://www.w3.org/Protocols/rfc2616/rfc2616-sec10.html#sec10.4.6\">here</a>.<br>\n",
      "Please continue your visit at our <a href=\"/\">home page</a>.\n",
      "</p>\n",
      "</body>\n",
      "</html>\n"
     ]
    },
    {
     "name": "stderr",
     "output_type": "stream",
     "text": [
      "  % Total    % Received % Xferd  Average Speed   Time    Time     Time  Current\n",
      "                                 Dload  Upload   Total   Spent    Left  Speed\n",
      "\r",
      "  0     0    0     0    0     0      0      0 --:--:-- --:--:-- --:--:--     0\r",
      "100   527  100   487  100    40  39461   3241 --:--:-- --:--:-- --:--:-- 40583\n"
     ]
    }
   ],
   "source": [
    "%%bash\n",
    "curl -X POST -H 'Content-type:application/json' --data-binary '{\n",
    "  \"delete-field\" : { \"name\":\"type\" }\n",
    "}' http://localhost:8983/solr/ais_collection_shard1_replica1/schema"
   ]
  }
 ],
 "metadata": {
  "hide_input": false,
  "kernelspec": {
   "display_name": "Python 2",
   "language": "python",
   "name": "python2"
  },
  "language_info": {
   "codemirror_mode": {
    "name": "ipython",
    "version": 2
   },
   "file_extension": ".py",
   "mimetype": "text/x-python",
   "name": "python",
   "nbconvert_exporter": "python",
   "pygments_lexer": "ipython2",
   "version": "2.7.12"
  },
  "toc": {
   "nav_menu": {
    "height": "12px",
    "width": "252px"
   },
   "navigate_menu": true,
   "number_sections": true,
   "sideBar": true,
   "threshold": 4,
   "toc_cell": false,
   "toc_section_display": "block",
   "toc_window_display": false
  }
 },
 "nbformat": 4,
 "nbformat_minor": 1
}
