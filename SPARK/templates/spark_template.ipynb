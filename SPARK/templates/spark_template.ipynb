{
 "cells": [
  {
   "cell_type": "markdown",
   "metadata": {},
   "source": [
    "# Import `spark_bindings` and create context"
   ]
  },
  {
   "cell_type": "code",
   "execution_count": 1,
   "metadata": {
    "ExecuteTime": {
     "end_time": "2017-01-17T09:30:55.215784",
     "start_time": "2017-01-17T09:30:55.198203"
    },
    "collapsed": true
   },
   "outputs": [],
   "source": [
    "# Import this Python Spark library \n",
    "import spark_bindings"
   ]
  },
  {
   "cell_type": "markdown",
   "metadata": {},
   "source": [
    "## INIT ARGUMENTS: \n",
    "\n",
    "`sc,sqlContext,T,F,Window,Row = spark_bindings.init(args)` :\n",
    "\n",
    "Inputs:\n",
    "* `sc`         : SparkContext, the entry point to Spark API\n",
    "* `sqlContext` : sqlContext, the entry point to Spark DataFrames API\n",
    "* `T`          : entry point to Spark DataFrame Row Types\n",
    "* `F`          : entry point to Spark DataFrame Functions\n",
    "* `Window`     : entry point to Spark DataFrame Window functions\n",
    "* `Row`        : entry point to Spark DataFrame Row type\n",
    "\n",
    "\n",
    "Outputs (`args`):\n",
    "* `version    = str(1.6.0)` or `str(2.0.2)` : Spark version to use\n",
    "* `df_api     = bool(True/False)`           : Include DataFrame API in addition to RDD\n",
    "* `master     = str(local[num_cores])`      : Spark master, single node (local) or distributed on YARN (yarn-client)\n",
    "* `dri_mem    = int(2)`                     : Number of GB RAM to use for Spark driver/master\n",
    "* `num_exec   = int(2)`                     : Number of Spark executors/workers to run\n",
    "* `exec_mem   = int(1)`                     : Number of GB RAM to use pr. executor\n",
    "* `exec_cores = int(1)`                     : Number of CPU cores pr executor\n",
    "* `app_name   = str(username sparkapp)`     : Name of your Spark application"
   ]
  },
  {
   "cell_type": "markdown",
   "metadata": {},
   "source": [
    "## Get default local sc: \n",
    "`version='1.6.0',df_api=True,master='local[2]',dri_mem=2,num_exec=2,exec_mem=1,exec_cores=1,app_name='username sparkapp'`"
   ]
  },
  {
   "cell_type": "code",
   "execution_count": null,
   "metadata": {
    "ExecuteTime": {
     "end_time": "2016-12-05T09:15:52.789204",
     "start_time": "2016-12-05T09:15:52.531368"
    },
    "collapsed": true
   },
   "outputs": [],
   "source": [
    "sc,sqlContext,T,F,Window,Row = spark_bindings.init()"
   ]
  },
  {
   "cell_type": "markdown",
   "metadata": {},
   "source": [
    "## Default without DF API"
   ]
  },
  {
   "cell_type": "code",
   "execution_count": null,
   "metadata": {
    "collapsed": true
   },
   "outputs": [],
   "source": [
    "sc = spark_bindings.init('1.6.0',False)"
   ]
  },
  {
   "cell_type": "markdown",
   "metadata": {},
   "source": [
    "## Get default local sc, version 2.0.2: \n",
    "`version='2.0.2',df_api=True,master='local[2]',dri_mem=2,num_exec=2,exec_mem=1,exec_cores=1,app_name='username sparkapp'`"
   ]
  },
  {
   "cell_type": "code",
   "execution_count": null,
   "metadata": {
    "collapsed": true
   },
   "outputs": [],
   "source": [
    "sc,sqlContext,T,F,Window,Row=spark_bindings.init(version='2.0.2')"
   ]
  },
  {
   "cell_type": "markdown",
   "metadata": {},
   "source": [
    "## Get custom sc: \n",
    "`version='2.0.2',df_api=True,master='yarn-client',dri_mem=2,num_exec=2,exec_mem=2,exec_cores=2,app_name='My awesome application'`"
   ]
  },
  {
   "cell_type": "code",
   "execution_count": 2,
   "metadata": {
    "ExecuteTime": {
     "end_time": "2017-01-17T09:31:43.844178",
     "start_time": "2017-01-17T09:31:25.827889"
    },
    "collapsed": false
   },
   "outputs": [],
   "source": [
    "sc,sqlContext,T,F,Window,Row=spark_bindings.init('1.6.0',True,'yarn-client',dri_mem=1,num_exec=2,exec_mem=2,exec_cores=2,app_name='My awesome application')"
   ]
  },
  {
   "cell_type": "markdown",
   "metadata": {},
   "source": [
    "# Remember to run before shutting down your Notebook"
   ]
  },
  {
   "cell_type": "code",
   "execution_count": 3,
   "metadata": {
    "ExecuteTime": {
     "end_time": "2017-01-04T14:16:39.648449",
     "start_time": "2017-01-04T14:16:39.438373"
    },
    "collapsed": false
   },
   "outputs": [],
   "source": [
    "sc.stop()"
   ]
  }
 ],
 "metadata": {
  "hide_input": false,
  "kernelspec": {
   "display_name": "Python 2",
   "language": "python",
   "name": "python2"
  },
  "language_info": {
   "codemirror_mode": {
    "name": "ipython",
    "version": 2
   },
   "file_extension": ".py",
   "mimetype": "text/x-python",
   "name": "python",
   "nbconvert_exporter": "python",
   "pygments_lexer": "ipython2",
   "version": "2.7.12"
  },
  "toc": {
   "nav_menu": {
    "height": "171px",
    "width": "252px"
   },
   "navigate_menu": true,
   "number_sections": true,
   "sideBar": true,
   "threshold": 4,
   "toc_cell": false,
   "toc_section_display": "block",
   "toc_window_display": false
  }
 },
 "nbformat": 4,
 "nbformat_minor": 1
}
