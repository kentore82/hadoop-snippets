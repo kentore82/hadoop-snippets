{
 "cells": [
  {
   "cell_type": "code",
   "execution_count": 3,
   "metadata": {
    "ExecuteTime": {
     "end_time": "2016-11-07T13:31:56.133468",
     "start_time": "2016-11-07T13:31:56.129745"
    },
    "collapsed": true
   },
   "outputs": [],
   "source": [
    "import happybase"
   ]
  },
  {
   "cell_type": "code",
   "execution_count": 73,
   "metadata": {
    "ExecuteTime": {
     "end_time": "2016-11-07T14:44:32.561262",
     "start_time": "2016-11-07T14:44:32.556307"
    },
    "collapsed": false
   },
   "outputs": [],
   "source": [
    "#Create connection\n",
    "connection = happybase.Connection('2.sherpa.client.sysedata.no')\n",
    "connection.open()\n"
   ]
  },
  {
   "cell_type": "code",
   "execution_count": 64,
   "metadata": {
    "ExecuteTime": {
     "end_time": "2016-11-07T14:38:14.850140",
     "start_time": "2016-11-07T14:38:12.511057"
    },
    "collapsed": false
   },
   "outputs": [
    {
     "name": "stdout",
     "output_type": "stream",
     "text": [
      "['mmsiShipInfo']\n"
     ]
    }
   ],
   "source": [
    "#Create table if not exists\n",
    "table_name=\"mmsiShipInfo\"\n",
    "\n",
    "table_list=connection.tables()\n",
    "\n",
    "if not table_name in table_list:\n",
    "    connection.create_table(\n",
    "        table_name,\n",
    "        {'P': dict(max_versions=1),\n",
    "        }\n",
    "    )\n",
    "table = connection.table(table_name)\n",
    "\n",
    "print(connection.tables())"
   ]
  },
  {
   "cell_type": "code",
   "execution_count": 65,
   "metadata": {
    "ExecuteTime": {
     "end_time": "2016-11-07T14:40:45.686136",
     "start_time": "2016-11-07T14:38:16.870710"
    },
    "collapsed": false
   },
   "outputs": [],
   "source": [
    "raw_path=\"/home/kentt/repos/hadoop_code/SPARK/ais_stream/data/imo-vessel-codes-clean.csv\"\n",
    "#header: imo,mmsi,name,flag,type\n",
    "with open(raw_path,'r') as f:\n",
    "    f.next()\n",
    "    for linestr in f:\n",
    "        line=linestr.translate(None, '\\r\\n').split(',')\n",
    "        mmsi=line[1]\n",
    "        imo=line[0]\n",
    "        name=line[2]\n",
    "        stype=line[4]\n",
    "        table.put(mmsi, {u'P:mmsi': mmsi,\\\n",
    "                         u'P:imo': imo,\\\n",
    "                         u'P:name': name,\\\n",
    "                         u'P:type': stype,})"
   ]
  },
  {
   "cell_type": "code",
   "execution_count": 72,
   "metadata": {
    "ExecuteTime": {
     "end_time": "2016-11-07T14:44:29.259642",
     "start_time": "2016-11-07T14:44:29.255737"
    },
    "collapsed": true
   },
   "outputs": [],
   "source": [
    "connection.close()"
   ]
  },
  {
   "cell_type": "code",
   "execution_count": 91,
   "metadata": {
    "ExecuteTime": {
     "end_time": "2016-11-07T14:46:28.238006",
     "start_time": "2016-11-07T14:46:28.229873"
    },
    "collapsed": false
   },
   "outputs": [
    {
     "data": {
      "text/plain": [
       "{'P:imo': '9196735',\n",
       " 'P:mmsi': '259604000',\n",
       " 'P:name': 'FJORDPRINSESSEN',\n",
       " 'P:type': 'Passengers Ship'}"
      ]
     },
     "execution_count": 91,
     "metadata": {},
     "output_type": "execute_result"
    }
   ],
   "source": [
    "#table = connection.table(table_name)\n",
    "get_meta_from_mmsi(table,'259604000')"
   ]
  },
  {
   "cell_type": "code",
   "execution_count": 88,
   "metadata": {
    "ExecuteTime": {
     "end_time": "2016-11-07T14:46:13.930229",
     "start_time": "2016-11-07T14:46:13.921834"
    },
    "collapsed": false
   },
   "outputs": [],
   "source": [
    "#Create connection\n",
    "connection = happybase.Connection('2.sherpa.client.sysedata.no')\n",
    "connection.open()\n",
    "\n",
    "table_name=\"mmsiShipInfo\"\n",
    "table = connection.table(table_name)\n",
    "\n",
    "connection.close()\n",
    "\n",
    "def get_meta_from_mmsi(table,mmsi):\n",
    "    info_dict=table.row(mmsi)\n",
    "    if info_dict=={}:\n",
    "        info_dict={'P:imo': 'not_found','P:mmsi': mmsi,'P:name': 'not_found','P:type': 'not_found'}\n",
    "    \n",
    "    return info_dict"
   ]
  }
 ],
 "metadata": {
  "hide_input": false,
  "kernelspec": {
   "display_name": "Python 2",
   "language": "python",
   "name": "python2"
  },
  "language_info": {
   "codemirror_mode": {
    "name": "ipython",
    "version": 2
   },
   "file_extension": ".py",
   "mimetype": "text/x-python",
   "name": "python",
   "nbconvert_exporter": "python",
   "pygments_lexer": "ipython2",
   "version": "2.7.12"
  },
  "toc": {
   "nav_menu": {
    "height": "12px",
    "width": "252px"
   },
   "navigate_menu": true,
   "number_sections": true,
   "sideBar": true,
   "threshold": 4,
   "toc_cell": false,
   "toc_section_display": "block",
   "toc_window_display": false
  }
 },
 "nbformat": 4,
 "nbformat_minor": 1
}
