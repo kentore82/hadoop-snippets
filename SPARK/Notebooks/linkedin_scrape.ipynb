{
 "cells": [
  {
   "cell_type": "code",
   "execution_count": 9,
   "metadata": {
    "ExecuteTime": {
     "end_time": "2016-09-23T14:38:35.842013",
     "start_time": "2016-09-23T14:38:35.819909"
    },
    "collapsed": true
   },
   "outputs": [],
   "source": [
    "from bs4 import BeautifulSoup\n",
    "import urllib\n",
    "import json\n",
    "import requests\n",
    "import time"
   ]
  },
  {
   "cell_type": "code",
   "execution_count": 7,
   "metadata": {
    "ExecuteTime": {
     "end_time": "2016-09-23T14:33:00.836260",
     "start_time": "2016-09-23T14:32:57.239734"
    },
    "collapsed": false
   },
   "outputs": [
    {
     "name": "stderr",
     "output_type": "stream",
     "text": [
      "/usr/lib/python2.7/dist-packages/bs4/__init__.py:166: UserWarning: No parser was explicitly specified, so I'm using the best available HTML parser for this system (\"lxml\"). This usually isn't a problem, but if you run this code on another system, or in a different virtual environment, it may use a different parser and behave differently.\n",
      "\n",
      "To get rid of this warning, change this:\n",
      "\n",
      " BeautifulSoup([your markup])\n",
      "\n",
      "to this:\n",
      "\n",
      " BeautifulSoup([your markup], \"lxml\")\n",
      "\n",
      "  markup_type=markup_type))\n"
     ]
    }
   ],
   "source": [
    "uname=''\n",
    "passwd=''\n",
    "client = login(uname,passwd)"
   ]
  },
  {
   "cell_type": "code",
   "execution_count": null,
   "metadata": {
    "ExecuteTime": {
     "start_time": "2016-09-23T12:47:00.268Z"
    },
    "collapsed": false
   },
   "outputs": [
    {
     "name": "stdout",
     "output_type": "stream",
     "text": [
      "al: 8\n",
      "ad: 1\n",
      "{'top5': (None, None), 'top4': (None, None), 'top3': (None, None), 'top2': (None, None), 'top1': (u'Innova\\\\u002dtsn\\\\u002d Shaping Ideas', 1)}\n",
      "am: 27\n",
      "{'top5': (u'Microsoft', 1), 'top4': (u'IIAP ( Institute for Informatics and Automated Problems)', 1), 'top3': (u'GreaterGood Europe', 1), 'top2': (u'Monitis', 4), 'top1': (u'PicsArt Inc.', 5)}\n",
      "at: 204\n",
      "{'top5': (u'Teradata', 4), 'top4': (u'Know\\\\u002dCenter', 5), 'top3': (u'Graz University of Technology', 5), 'top2': (u'Vienna University of Technology', 6), 'top1': (u'Accenture', 6)}\n",
      "by: 318\n",
      "{'top5': (u'Adform', 9), 'top4': (u'IBA Group', 10), 'top3': (u'Wargaming.net', 11), 'top2': (u'Altoros', 19), 'top1': (u'EPAM Systems', 77)}\n",
      "be: 759\n",
      "ba: 54\n",
      "{'top5': (u'Sredi Svoj Grad', 3), 'top4': (u'Mistral Technologies', 3), 'top3': (u'Personal, Inc.', 4), 'top2': (u'Bravo Studio d.o.o.', 7), 'top1': (u'Atlantbh Sarajevo', 8)}\n",
      "bg: 153\n",
      "{'top5': (u'Paysafe Group', 4), 'top4': (u'Hewlett Packard Enterprise', 4), 'top3': (u'GfK', 5), 'top2': (u'VMware', 5), 'top1': (u'MammothDB', 5)}\n",
      "ch: 1025\n",
      "cy: 41\n",
      "{'top5': (u'dataffirm', 1), 'top4': (u'Exness', 2), 'top3': (u'NewCytech Business Solutions Ltd', 3), 'top2': (u'Cyprus University of Technology', 3), 'top1': (u'Amdocs', 5)}\n",
      "cz: 474\n",
      "{'top5': (u'Avast Software', 11), 'top4': (u'Jumpshot Inc', 12), 'top3': (u'Teradata', 18), 'top2': (u'MSD', 24), 'top1': (u'Seznam.cz', 37)}\n",
      "de: 3588\n",
      "{'top5': (u'Datameer', 34), 'top4': (u'HERE', 37), 'top3': (u'IBM', 40), 'top2': (u'Zalando SE', 49), 'top1': (u'SAP', 78)}\n",
      "dk: 425\n",
      "{'top5': (u'Maersk Line', 7), 'top4': (u'SKAT', 8), 'top3': (u'Microsoft', 8), 'top2': (u'Danske Bank', 15), 'top1': (u'Nordea', 20)}\n",
      "ee: 64\n",
      "{'top5': (u'FeelingStream', 2), 'top4': (u'University of Tartu', 3), 'top3': (u'Playtech', 4), 'top2': (u'Nortal', 5), 'top1': (u'Kuehne + Nagel', 6)}\n",
      "es: 3778\n",
      "fo: 1\n",
      "fi: 634\n",
      "{'top5': (u'Rovio Entertainment Ltd.', 11), 'top4': (u'Microsoft', 11), 'top3': (u'Aalto University', 13), 'top2': (u'Tieto', 19), 'top1': (u'Tata Consultancy Services', 22)}\n",
      "fr: 6244\n",
      "{'top5': (u'Sopra Steria', 89), 'top4': (u'Criteo', 99), 'top3': (u'Orange', 115), 'top2': (u'Amadeus IT Group', 133), 'top1': (u'Capgemini', 139)}\n",
      "gb: 9337\n",
      "{'top5': (u'Lloyds Banking Group', 73), 'top4': (u'Tata Consultancy Services', 79), 'top3': (u'HSBC', 97), 'top2': (u'Capgemini', 112), 'top1': (u'IBM', 124)}\n"
     ]
    }
   ],
   "source": [
    "keyword=\"hadoop\"\n",
    "country_code=['al', 'ad', 'am', 'at', 'by', 'be',\\\n",
    " 'ba', 'bg', 'ch', 'cy', 'cz', 'de', 'dk', 'ee',\\\n",
    " 'es', 'fo', 'fi', 'fr', 'gb', 'ge', 'gi', 'gr',\\\n",
    " 'hu', 'hr', 'ie', 'is', 'it', 'lt', 'lu', 'lv',\\\n",
    " 'mc', 'mk', 'mt', 'no', 'nl', 'po', 'pt', 'ro',\\\n",
    " 'ru', 'se', 'si', 'sk', 'sm', 'tr', 'ua']\n",
    "\n",
    "for cc in country_code:\n",
    "    time.sleep(5)\n",
    "    try:\n",
    "        linkedin_str = createHTMLstr(keyword,cc,client)\n",
    "\n",
    "        print cc + \": \" + resultCount(linkedin_str)\n",
    "\n",
    "        print resultCompany(linkedin_str)\n",
    "    except:\n",
    "        pass\n",
    "#print linkedin_str[0:20000]"
   ]
  },
  {
   "cell_type": "code",
   "execution_count": 6,
   "metadata": {
    "ExecuteTime": {
     "end_time": "2016-09-23T14:32:49.681719",
     "start_time": "2016-09-23T14:32:49.620921"
    },
    "collapsed": false
   },
   "outputs": [],
   "source": [
    "def login(uname,passwd):\n",
    "    client = requests.Session()\n",
    "\n",
    "    HOMEPAGE_URL = 'https://www.linkedin.com'\n",
    "    LOGIN_URL = 'https://www.linkedin.com/uas/login-submit'\n",
    "\n",
    "    html = client.get(HOMEPAGE_URL).content\n",
    "    soup = BeautifulSoup(html)\n",
    "\n",
    "    csrf = soup.find(id=\"loginCsrfParam-login\")['value']\n",
    "    \n",
    "    login = {\n",
    "        'session_key': uname,\n",
    "        'session_password': passwd,\n",
    "        'loginCsrfParam': csrf,\n",
    "    }\n",
    "    \n",
    "    client.post(LOGIN_URL, data=login)\n",
    "    \n",
    "    return client\n",
    "\n",
    "def createHTMLstr(keyword,country_code,client):\n",
    "    \n",
    "    html_response=client.get('https://www.linkedin.com/vsearch/p?keywords='+keyword+'&openAdvancedForm=true&locationType=I&countryCode='+country_code).content\n",
    "\n",
    "    soup_response = BeautifulSoup(html_response)\n",
    "    \n",
    "    letters = soup_response.find_all(\"div\", class_=\"wrapper hp-nus-wrapper\")\n",
    "    #print soup_response\n",
    "    lett=unicode(soup_response.find_all(id=\"voltron_srp_main-content\"))\n",
    "    \n",
    "    return lett\n",
    "\n",
    "def resultCount(html_str):\n",
    "    start_tag=\"resultCount\"\n",
    "    end_tag=\"company_search_link\"\n",
    "    offset_start=2\n",
    "    offset_end=2\n",
    "    \n",
    "    return html_str[html_str.find(start_tag)+len(start_tag)+offset_start:html_str.find(end_tag)-offset_end]\n",
    "    \n",
    "def resultCompany(html_str):    \n",
    "    start_tag='displayName\":\"Current Company'\n",
    "    end_tag='],\"link_premium_facet_upsell\"'\n",
    "    offset_start=56\n",
    "    offset_end=0\n",
    "\n",
    "    a=html_str.find(start_tag)+len(start_tag)+offset_start\n",
    "    b=html_str.find(end_tag,a)-offset_end\n",
    "    company_str = html_str[a:b]\n",
    "\n",
    "    company_count={\"top1\":(None,None),\"top2\":(None,None),\"top3\":(None,None),\"top4\":(None,None),\"top5\":(None,None)}\n",
    "    i=0\n",
    "    for item in (\",\"+company_str).split('}')[:-1]:\n",
    "        i+=1\n",
    "        count = json.loads(item[1:]+\"}\")[\"count\"]\n",
    "        company_name = json.loads(item[1:]+\"}\")[\"fmt_displayValue\"]\n",
    "\n",
    "        company_count[\"top\"+str(i)]=(company_name,count)\n",
    "    \n",
    "    return company_count"
   ]
  },
  {
   "cell_type": "code",
   "execution_count": null,
   "metadata": {
    "collapsed": true
   },
   "outputs": [],
   "source": [
    "geoEnabledCountryCodes=[\"fr\",\"za\",\"dz\",\"de\",\"sa\",\"ar\",\"au\",\"at\",\"bh\",\"be\",\"br\",\"bg\",\"ca\",\"cl\",\"cn\",\"co\",\\\n",
    "                        \"kr\",\"dk\",\"eg\",\"es\",\"us\",\"ru\",\"fi\",\"gp\",\"gu\",\"gt\",\"gf\",\"hk\",\"hu\",\"mp\",\"mh\",\"vi\",\\\n",
    "                        \"in\",\"id\",\"ir\",\"ie\",\"il\",\"it\",\"jp\",\"jo\",\"li\",\"my\",\"ma\",\"mq\",\"yt\",\"mx\",\"md\",\"mc\",\\\n",
    "                        \"no\",\"nz\",\"om\",\"pk\",\"nl\",\"pe\",\"ph\",\"pl\",\"pr\",\"pt\",\"cz\",\"re\",\"ro\",\"gb\",\"pm\",\"as\",\\\n",
    "                        \"sg\",\"sk\",\"se\",\"ch\",\"sj\",\"tw\",\"th\",\"tn\",\"tr\",\"ve\"]"
   ]
  },
  {
   "cell_type": "code",
   "execution_count": 15,
   "metadata": {
    "ExecuteTime": {
     "end_time": "2016-09-23T14:44:16.341710",
     "start_time": "2016-09-23T14:44:16.312036"
    },
    "collapsed": false
   },
   "outputs": [
    {
     "data": {
      "text/plain": [
       "['al',\n",
       " 'ad',\n",
       " 'am',\n",
       " 'at',\n",
       " 'by',\n",
       " 'be',\n",
       " 'ba',\n",
       " 'bg',\n",
       " 'ch',\n",
       " 'cy',\n",
       " 'cz',\n",
       " 'de',\n",
       " 'dk',\n",
       " 'ee',\n",
       " 'es',\n",
       " 'fo',\n",
       " 'fi',\n",
       " 'fr',\n",
       " 'gb',\n",
       " 'ge',\n",
       " 'gi',\n",
       " 'gr',\n",
       " 'hu',\n",
       " 'hr',\n",
       " 'ie',\n",
       " 'is',\n",
       " 'it',\n",
       " 'lt',\n",
       " 'lu',\n",
       " 'lv',\n",
       " 'mc',\n",
       " 'mk',\n",
       " 'mt',\n",
       " 'no',\n",
       " 'nl',\n",
       " 'po',\n",
       " 'pt',\n",
       " 'ro',\n",
       " 'ru',\n",
       " 'se',\n",
       " 'si',\n",
       " 'sk',\n",
       " 'sm',\n",
       " 'tr',\n",
       " 'ua']"
      ]
     },
     "execution_count": 15,
     "metadata": {},
     "output_type": "execute_result"
    }
   ],
   "source": [
    "two_letter_cc='AL,AD,AM,AT,BY,BE,BA,BG,CH,CY,CZ,DE,DK,EE,ES,FO,FI,\\\n",
    "FR,GB,GE,GI,GR,HU,HR,IE,IS,IT,LT,LU,LV,MC,MK,MT,NO,NL,PO,PT,RO,RU,\\\n",
    "SE,SI,SK,SM,TR,UA'\n",
    "\n",
    "a= two_letter_cc.lower()\n",
    "a.split(\",\")"
   ]
  }
 ],
 "metadata": {
  "hide_input": false,
  "kernelspec": {
   "display_name": "Python 2",
   "language": "python",
   "name": "python2"
  },
  "language_info": {
   "codemirror_mode": {
    "name": "ipython",
    "version": 2
   },
   "file_extension": ".py",
   "mimetype": "text/x-python",
   "name": "python",
   "nbconvert_exporter": "python",
   "pygments_lexer": "ipython2",
   "version": "2.7.12"
  }
 },
 "nbformat": 4,
 "nbformat_minor": 1
}
