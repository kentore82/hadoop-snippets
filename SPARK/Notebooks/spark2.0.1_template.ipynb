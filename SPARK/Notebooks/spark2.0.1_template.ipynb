{
 "cells": [
  {
   "cell_type": "markdown",
   "metadata": {},
   "source": [
    "## SPARK documentation\n",
    "https://spark.apache.org/docs/latest/api/python/index.html"
   ]
  },
  {
   "cell_type": "code",
   "execution_count": 1,
   "metadata": {
    "ExecuteTime": {
     "end_time": "2016-10-17T11:46:05.027072",
     "start_time": "2016-10-17T11:46:05.019097"
    },
    "collapsed": false
   },
   "outputs": [],
   "source": [
    "# Import Spark bindings\n",
    "execfile(\"/etc/spark/conf/spark_2.0.1_binings.py\")"
   ]
  },
  {
   "cell_type": "code",
   "execution_count": 2,
   "metadata": {
    "ExecuteTime": {
     "end_time": "2016-10-17T11:46:15.436808",
     "start_time": "2016-10-17T11:46:12.763838"
    },
    "collapsed": false
   },
   "outputs": [],
   "source": [
    "-"
   ]
  },
  {
   "cell_type": "markdown",
   "metadata": {
    "ExecuteTime": {
     "end_time": "2016-10-14T13:25:57.786709",
     "start_time": "2016-10-14T13:25:48.085314"
    },
    "collapsed": true
   },
   "source": [
    "## After running the two first cells. Go to the YARN application manager to verify that your job/ Spark Context is running:\n",
    "\n",
    "http://10.10.110.1:8088/cluster/scheduler"
   ]
  },
  {
   "cell_type": "code",
   "execution_count": 4,
   "metadata": {
    "ExecuteTime": {
     "end_time": "2016-10-17T11:28:46.446294",
     "start_time": "2016-10-17T11:28:46.347358"
    },
    "collapsed": true
   },
   "outputs": [],
   "source": [
    "# Import Spark DataFrame API's\n",
    "from pyspark import HiveContext\n",
    "sqlContext = HiveContext(sc)\n",
    "from pyspark.sql.types import *\n",
    "import pyspark.sql.functions as F\n",
    "from pyspark.sql.window import Window"
   ]
  },
  {
   "cell_type": "markdown",
   "metadata": {},
   "source": [
    "## IMPORTANT: when you are finished with your SPARK Notebook, remember to run \"sc.stop()\" to release recourses.\n",
    "\n",
    "## Spark example using LinkedIn data"
   ]
  },
  {
   "cell_type": "code",
   "execution_count": 3,
   "metadata": {
    "ExecuteTime": {
     "end_time": "2016-10-17T11:46:21.603917",
     "start_time": "2016-10-17T11:46:19.689211"
    },
    "collapsed": false
   },
   "outputs": [
    {
     "data": {
      "text/plain": [
       "[u'# Number of users with \"Hadoop\" in their profile',\n",
       " u'Norway 273,(8),Telenor,(8),DNV GL,(5),Affecto,(5),Tata Consultancy Services,(4),Microsoft',\n",
       " u'Sweden 863,(55),Ericsson,(44),Spotify,(28),Klarna,(25),King,(18),KTH Royal Institute of Technology',\n",
       " u'France 6170,(137),Capgemini,(131),Amadeus IT Group,(117),Orange,(99),Criteo,(87),Sopra Steria',\n",
       " u'Denmark 419,(20),Nordea,(15),Danske Bank,(8),Microsoft,(8),SKAT,(7),Maersk Line']"
      ]
     },
     "execution_count": 3,
     "metadata": {},
     "output_type": "execute_result"
    }
   ],
   "source": [
    "# Load to Spark\n",
    "raw_data_spark=sc.textFile(\"/tmp/hadoop_nasjon_messy.txt\")\n",
    "raw_data_spark.take(5)"
   ]
  },
  {
   "cell_type": "code",
   "execution_count": 6,
   "metadata": {
    "ExecuteTime": {
     "end_time": "2016-10-17T11:28:55.928947",
     "start_time": "2016-10-17T11:28:55.809837"
    },
    "collapsed": false
   },
   "outputs": [
    {
     "data": {
      "text/plain": [
       "[[u'Norway 273',\n",
       "  u'(8)',\n",
       "  u'Telenor',\n",
       "  u'(8)',\n",
       "  u'DNV GL',\n",
       "  u'(5)',\n",
       "  u'Affecto',\n",
       "  u'(5)',\n",
       "  u'Tata Consultancy Services',\n",
       "  u'(4)',\n",
       "  u'Microsoft'],\n",
       " [u'Sweden 863',\n",
       "  u'(55)',\n",
       "  u'Ericsson',\n",
       "  u'(44)',\n",
       "  u'Spotify',\n",
       "  u'(28)',\n",
       "  u'Klarna',\n",
       "  u'(25)',\n",
       "  u'King',\n",
       "  u'(18)',\n",
       "  u'KTH Royal Institute of Technology']]"
      ]
     },
     "execution_count": 6,
     "metadata": {},
     "output_type": "execute_result"
    }
   ],
   "source": [
    "# Drop header\n",
    "raw_data_spark1 = raw_data_spark.filter(lambda row: row[0][0] != '#')\\\n",
    ".map(lambda row: row.split(','))\n",
    "raw_data_spark1.take(2)"
   ]
  },
  {
   "cell_type": "code",
   "execution_count": 7,
   "metadata": {
    "ExecuteTime": {
     "end_time": "2016-10-17T11:28:57.248852",
     "start_time": "2016-10-17T11:28:57.169993"
    },
    "collapsed": false
   },
   "outputs": [
    {
     "data": {
      "text/plain": [
       "[[u'273',\n",
       "  u'Norway',\n",
       "  u'(8)',\n",
       "  u'Telenor',\n",
       "  u'(8)',\n",
       "  u'DNV GL',\n",
       "  u'(5)',\n",
       "  u'Affecto',\n",
       "  u'(5)',\n",
       "  u'Tata Consultancy Services',\n",
       "  u'(4)',\n",
       "  u'Microsoft'],\n",
       " [u'863',\n",
       "  u'Sweden',\n",
       "  u'(55)',\n",
       "  u'Ericsson',\n",
       "  u'(44)',\n",
       "  u'Spotify',\n",
       "  u'(28)',\n",
       "  u'Klarna',\n",
       "  u'(25)',\n",
       "  u'King',\n",
       "  u'(18)',\n",
       "  u'KTH Royal Institute of Technology']]"
      ]
     },
     "execution_count": 7,
     "metadata": {},
     "output_type": "execute_result"
    }
   ],
   "source": [
    "# Parse Norway 273 as (273), Norway \n",
    "raw_data_spark2 = raw_data_spark1\\\n",
    ".map(lambda row: [row[0].split(' ')[1],row[0].split(' ')[0]]+row[1:])\n",
    "\n",
    "raw_data_spark2.take(2)"
   ]
  },
  {
   "cell_type": "code",
   "execution_count": 8,
   "metadata": {
    "ExecuteTime": {
     "end_time": "2016-10-17T11:28:58.318789",
     "start_time": "2016-10-17T11:28:58.234448"
    },
    "collapsed": false
   },
   "outputs": [
    {
     "data": {
      "text/plain": [
       "[[273,\n",
       "  u'Norway',\n",
       "  8,\n",
       "  u'Telenor',\n",
       "  8,\n",
       "  u'DNV GL',\n",
       "  5,\n",
       "  u'Affecto',\n",
       "  5,\n",
       "  u'Tata Consultancy Services',\n",
       "  4,\n",
       "  u'Microsoft'],\n",
       " [863,\n",
       "  u'Sweden',\n",
       "  55,\n",
       "  u'Ericsson',\n",
       "  44,\n",
       "  u'Spotify',\n",
       "  28,\n",
       "  u'Klarna',\n",
       "  25,\n",
       "  u'King',\n",
       "  18,\n",
       "  u'KTH Royal Institute of Technology']]"
      ]
     },
     "execution_count": 8,
     "metadata": {},
     "output_type": "execute_result"
    }
   ],
   "source": [
    "# Remove unwanted chars and set dtypes\n",
    "raw_data_spark3=raw_data_spark2\\\n",
    ".map(lambda row: [i.strip('()') for i in row])\\\n",
    ".map(lambda row: [int(i) if i.isdigit() else i for i in row])\n",
    "\n",
    "raw_data_spark3.take(2)"
   ]
  },
  {
   "cell_type": "code",
   "execution_count": 9,
   "metadata": {
    "ExecuteTime": {
     "end_time": "2016-10-17T11:29:19.251542",
     "start_time": "2016-10-17T11:28:59.706731"
    },
    "collapsed": false
   },
   "outputs": [
    {
     "name": "stdout",
     "output_type": "stream",
     "text": [
      "+-----------+-------+--------+--------------------+--------+----------------+--------+--------------------+--------+--------------------+--------+--------------------+\n",
      "|num_country|country|num_top1|        top1_company|num_top2|    top2_company|num_top3|        top3_company|num_top4|        top4_company|num_top5|        top5_company|\n",
      "+-----------+-------+--------+--------------------+--------+----------------+--------+--------------------+--------+--------------------+--------+--------------------+\n",
      "|        273| Norway|       8|             Telenor|       8|          DNV GL|       5|             Affecto|       5|Tata Consultancy ...|       4|           Microsoft|\n",
      "|        863| Sweden|      55|            Ericsson|      44|         Spotify|      28|              Klarna|      25|                King|      18|KTH Royal Institu...|\n",
      "|       6170| France|     137|           Capgemini|     131|Amadeus IT Group|     117|              Orange|      99|              Criteo|      87|        Sopra Steria|\n",
      "|        419|Denmark|      20|              Nordea|      15|     Danske Bank|       8|           Microsoft|       8|                SKAT|       7|         Maersk Line|\n",
      "|        621|Finland|      22|Tata Consultancy ...|      19|           Tieto|      12|    Aalto University|      11|           Microsoft|      11|Rovio Entertainme...|\n",
      "|       9422|     UK|     124|                 IBM|     112|       Capgemini|      94|                HSBC|      77|Tata Consultancy ...|      73|Lloyds Banking Group|\n",
      "|       3703|Germany|      77|                 SAP|      49|      Zalando SE|      40|                 IBM|      37|                HERE|      33|            Datameer|\n",
      "|       1368| Poland|      39|        EPAM Systems|      38|         Allegro|      30|Hewlett Packard E...|      29|              Luxoft|      21|                 IBM|\n",
      "+-----------+-------+--------+--------------------+--------+----------------+--------+--------------------+--------+--------------------+--------+--------------------+\n",
      "\n"
     ]
    }
   ],
   "source": [
    "# Data is parsed. Create schema and dataframe\n",
    "schema = StructType([\\\n",
    "    StructField(\"num_country\", IntegerType(), True),\n",
    "    StructField(\"country\", StringType(), True),\n",
    "    StructField(\"num_top1\", IntegerType(), True),\n",
    "    StructField(\"top1_company\", StringType(), True),\n",
    "    StructField(\"num_top2\", IntegerType(), True),\n",
    "    StructField(\"top2_company\", StringType(), True),\n",
    "    StructField(\"num_top3\", IntegerType(), True),\n",
    "    StructField(\"top3_company\", StringType(), True),\n",
    "    StructField(\"num_top4\", IntegerType(), True),\n",
    "    StructField(\"top4_company\", StringType(), True),\n",
    "    StructField(\"num_top5\", IntegerType(), True),\n",
    "    StructField(\"top5_company\", StringType(), True)])\n",
    "    \n",
    "hadoop_users = sqlContext.createDataFrame(raw_data_spark3, schema)\n",
    "hadoop_users.show()"
   ]
  },
  {
   "cell_type": "code",
   "execution_count": 10,
   "metadata": {
    "ExecuteTime": {
     "end_time": "2016-10-17T11:29:27.949454",
     "start_time": "2016-10-17T11:29:27.226528"
    },
    "collapsed": false
   },
   "outputs": [
    {
     "name": "stdout",
     "output_type": "stream",
     "text": [
      "+-----------+-------+--------+------------+--------+------------+--------+------------+--------+--------------------+--------+------------+\n",
      "|num_country|country|num_top1|top1_company|num_top2|top2_company|num_top3|top3_company|num_top4|        top4_company|num_top5|top5_company|\n",
      "+-----------+-------+--------+------------+--------+------------+--------+------------+--------+--------------------+--------+------------+\n",
      "|        273| Norway|       8|     Telenor|       8|      DNV GL|       5|     Affecto|       5|Tata Consultancy ...|       4|   Microsoft|\n",
      "+-----------+-------+--------+------------+--------+------------+--------+------------+--------+--------------------+--------+------------+\n",
      "\n"
     ]
    }
   ],
   "source": [
    "# You now have a Spark DataFrame, and can use the Spark SQL API if you register it as a table.\n",
    "sqlContext.registerDataFrameAsTable(hadoop_users, \"hadoop_users\")\n",
    "sqlContext.sql(\"SELECT * FROM hadoop_users WHERE country = 'Norway'\").show()"
   ]
  },
  {
   "cell_type": "code",
   "execution_count": 5,
   "metadata": {
    "ExecuteTime": {
     "end_time": "2016-10-17T11:48:12.290361",
     "start_time": "2016-10-17T11:48:12.286402"
    },
    "collapsed": false
   },
   "outputs": [],
   "source": [
    "sc.stop()"
   ]
  }
 ],
 "metadata": {
  "hide_input": false,
  "kernelspec": {
   "display_name": "Python 2",
   "language": "python",
   "name": "python2"
  },
  "language_info": {
   "codemirror_mode": {
    "name": "ipython",
    "version": 2
   },
   "file_extension": ".py",
   "mimetype": "text/x-python",
   "name": "python",
   "nbconvert_exporter": "python",
   "pygments_lexer": "ipython2",
   "version": "2.7.5"
  },
  "toc": {
   "nav_menu": {
    "height": "12px",
    "width": "252px"
   },
   "navigate_menu": true,
   "number_sections": true,
   "sideBar": true,
   "threshold": 4,
   "toc_cell": false,
   "toc_section_display": "block",
   "toc_window_display": false
  }
 },
 "nbformat": 4,
 "nbformat_minor": 1
}
