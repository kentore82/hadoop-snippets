{
 "cells": [
  {
   "cell_type": "code",
   "execution_count": 11,
   "metadata": {},
   "outputs": [],
   "source": [
    "import spark_bindings\n",
    "\n",
    "from pyspark.sql import SparkSession\n",
    "from pyspark import SparkConf\n",
    "\n",
    "from pyspark.sql.types import *\n",
    "import json"
   ]
  },
  {
   "cell_type": "code",
   "execution_count": 2,
   "metadata": {},
   "outputs": [],
   "source": [
    "sconf = SparkConf()\n",
    "\n",
    "sconf.set('spark.submit.deployMode','client')\n",
    "sconf.set('spark.master','yarn')\n",
    "\n",
    "app_name=\"I am Spark\"\n",
    "sconf.set('spark.app.name',app_name)\n",
    "\n",
    "spark = ( SparkSession\n",
    "    .builder\n",
    "    .config(conf=sconf)\n",
    "    .enableHiveSupport()\n",
    "    .getOrCreate()\n",
    ")"
   ]
  },
  {
   "cell_type": "code",
   "execution_count": 4,
   "metadata": {},
   "outputs": [],
   "source": [
    "from avro.schema import parse\n",
    "\n",
    "# copy paste from schema reg\n",
    "my_avro_schema_string = \"\"\"{\"name\":\"Vaerutsatt_veg\",\"type\":\"record\",\"fields\":[{\"name\":\"type\",\"type\":[\"null\",\"string\"],\"default\":null},{\"name\":\"vegobjekt\",\"type\":[\"null\",{\"type\":\"record\",\"name\":\"vegobjekt\",\"fields\":[{\"name\":\"id\",\"type\":[\"null\",\"int\"],\"default\":null},{\"name\":\"href\",\"type\":[\"null\",\"string\"],\"default\":null},{\"name\":\"metadata\",\"type\":[\"null\",{\"type\":\"record\",\"name\":\"vegobjekt\",\"namespace\":\"metadata\",\"fields\":[{\"name\":\"type\",\"type\":[\"null\",{\"type\":\"record\",\"name\":\"vegobjekt\",\"namespace\":\"type.metadata\",\"fields\":[{\"name\":\"id\",\"type\":[\"null\",\"int\"],\"default\":null},{\"name\":\"navn\",\"type\":[\"null\",\"string\"],\"default\":null}]}]},{\"name\":\"versjon\",\"type\":[\"null\",\"int\"],\"default\":null},{\"name\":\"startdato\",\"type\":[\"null\",\"string\"],\"default\":null},{\"name\":\"sist_modifisert\",\"type\":[\"null\",\"string\"],\"default\":null}]}]},{\"name\":\"geometri\",\"type\":[\"null\",{\"type\":\"record\",\"name\":\"vegobjekt\",\"namespace\":\"geometri\",\"fields\":[{\"name\":\"wkt\",\"type\":[\"null\",\"string\"],\"default\":null},{\"name\":\"srid\",\"type\":[\"null\",\"int\"],\"default\":null},{\"name\":\"egengeometri\",\"type\":[\"null\",\"boolean\"],\"default\":null}]}]},{\"name\":\"lokasjon\",\"type\":[\"null\",{\"type\":\"record\",\"name\":\"vegobjekt\",\"namespace\":\"lokasjon\",\"fields\":[{\"name\":\"kommuner\",\"type\":[\"null\",{\"type\":\"array\",\"items\":\"int\"}]},{\"name\":\"fylker\",\"type\":[\"null\",{\"type\":\"array\",\"items\":\"int\"}]},{\"name\":\"regioner\",\"type\":[\"null\",{\"type\":\"array\",\"items\":\"int\"}]},{\"name\":\"vegavdelinger\",\"type\":[\"null\",{\"type\":\"array\",\"items\":\"int\"}]},{\"name\":\"kontraktsomraader\",\"type\":[\"null\",{\"type\":\"array\",\"items\":[\"null\",{\"type\":\"record\",\"name\":\"vegobjekt\",\"namespace\":\"kontraktsomraader.lokasjon\",\"fields\":[{\"name\":\"nummer\",\"type\":[\"null\",\"int\"],\"default\":null},{\"name\":\"navn\",\"type\":[\"null\",\"string\"],\"default\":null}]}]}]},{\"name\":\"vegreferanser\",\"type\":[\"null\",{\"type\":\"array\",\"items\":[\"null\",{\"type\":\"record\",\"name\":\"vegobjekt\",\"namespace\":\"vegreferanser.lokasjon\",\"fields\":[{\"name\":\"fylke\",\"type\":[\"null\",\"int\"],\"default\":null},{\"name\":\"kommune\",\"type\":[\"null\",\"int\"],\"default\":null},{\"name\":\"kategori\",\"type\":[\"null\",\"string\"],\"default\":null},{\"name\":\"status\",\"type\":[\"null\",\"string\"],\"default\":null},{\"name\":\"nummer\",\"type\":[\"null\",\"int\"],\"default\":null},{\"name\":\"hp\",\"type\":[\"null\",\"int\"],\"default\":null},{\"name\":\"fra_meter\",\"type\":[\"null\",\"int\"],\"default\":null},{\"name\":\"til_meter\",\"type\":[\"null\",\"int\"],\"default\":null},{\"name\":\"kortform\",\"type\":[\"null\",\"string\"],\"default\":null}]}]}]},{\"name\":\"stedfestinger\",\"type\":[\"null\",{\"type\":\"array\",\"items\":[\"null\",{\"type\":\"record\",\"name\":\"vegobjekt\",\"namespace\":\"stedfestinger.lokasjon\",\"fields\":[{\"name\":\"veglenkeid\",\"type\":[\"null\",\"int\"],\"default\":null},{\"name\":\"fra_posisjon\",\"type\":[\"null\",\"double\"],\"default\":null},{\"name\":\"til_posisjon\",\"type\":[\"null\",\"double\"],\"default\":null},{\"name\":\"kortform\",\"type\":[\"null\",\"string\"],\"default\":null},{\"name\":\"retning\",\"type\":[\"null\",\"string\"],\"default\":null}]}]}]},{\"name\":\"geometri\",\"type\":[\"null\",{\"type\":\"record\",\"name\":\"vegobjekt\",\"namespace\":\"geometri.lokasjon\",\"fields\":[{\"name\":\"wkt\",\"type\":[\"null\",\"string\"],\"default\":null},{\"name\":\"srid\",\"type\":[\"null\",\"int\"],\"default\":null}]}]},{\"name\":\"strekningslengde\",\"type\":[\"null\",\"int\"],\"default\":null}]}]},{\"name\":\"vegsegmenter\",\"type\":[\"null\",{\"type\":\"array\",\"items\":[\"null\",{\"type\":\"record\",\"name\":\"vegobjekt\",\"namespace\":\"vegsegmenter\",\"fields\":[{\"name\":\"stedfesting\",\"type\":[\"null\",{\"type\":\"record\",\"name\":\"vegobjekt\",\"namespace\":\"stedfesting.vegsegmenter\",\"fields\":[{\"name\":\"veglenkeid\",\"type\":[\"null\",\"int\"],\"default\":null},{\"name\":\"fra_posisjon\",\"type\":[\"null\",\"double\"],\"default\":null},{\"name\":\"til_posisjon\",\"type\":[\"null\",\"double\"],\"default\":null},{\"name\":\"kortform\",\"type\":[\"null\",\"string\"],\"default\":null},{\"name\":\"retning\",\"type\":[\"null\",\"string\"],\"default\":null}]}]},{\"name\":\"geometri\",\"type\":[\"null\",{\"type\":\"record\",\"name\":\"vegobjekt\",\"namespace\":\"geometri.vegsegmenter\",\"fields\":[{\"name\":\"wkt\",\"type\":[\"null\",\"string\"],\"default\":null},{\"name\":\"srid\",\"type\":[\"null\",\"int\"],\"default\":null}]}]},{\"name\":\"kommune\",\"type\":[\"null\",\"int\"],\"default\":null},{\"name\":\"fylke\",\"type\":[\"null\",\"int\"],\"default\":null},{\"name\":\"region\",\"type\":[\"null\",\"int\"],\"default\":null},{\"name\":\"vegavdeling\",\"type\":[\"null\",\"int\"],\"default\":null},{\"name\":\"vegreferanse\",\"type\":[\"null\",{\"type\":\"record\",\"name\":\"vegobjekt\",\"namespace\":\"vegreferanse.vegsegmenter\",\"fields\":[{\"name\":\"fylke\",\"type\":[\"null\",\"int\"],\"default\":null},{\"name\":\"kommune\",\"type\":[\"null\",\"int\"],\"default\":null},{\"name\":\"kategori\",\"type\":[\"null\",\"string\"],\"default\":null},{\"name\":\"status\",\"type\":[\"null\",\"string\"],\"default\":null},{\"name\":\"nummer\",\"type\":[\"null\",\"int\"],\"default\":null},{\"name\":\"hp\",\"type\":[\"null\",\"int\"],\"default\":null},{\"name\":\"fra_meter\",\"type\":[\"null\",\"int\"],\"default\":null},{\"name\":\"til_meter\",\"type\":[\"null\",\"int\"],\"default\":null},{\"name\":\"kortform\",\"type\":[\"null\",\"string\"],\"default\":null}]}]},{\"name\":\"strekningslengde\",\"type\":[\"null\",\"int\"],\"default\":null}]}]}]},{\"name\":\"relasjoner\",\"type\":[\"null\",{\"type\":\"record\",\"name\":\"vegobjekt\",\"namespace\":\"relasjoner\",\"fields\":[{\"name\":\"ManglendeFelt\",\"type\":[\"null\",\"string\"],\"default\":null}]}]}]}]},{\"type\":[\"null\",{\"type\":\"long\",\"logicalType\":\"timestamp-millis\"}],\"name\":\"AdmInsertUnixTime\",\"default\":null},{\"name\":\"AdmPreviousUnixTime\",\"default\":null,\"type\":[\"null\",{\"type\":\"long\",\"logicalType\":\"timestamp-millis\"}]},{\"name\":\"AdmPartitionKeyValue\",\"type\":[\"null\",\"string\"],\"default\":null},{\"name\":\"AdmSrcFilename\",\"default\":null,\"type\":[\"null\",\"string\"]},{\"type\":[\"null\",\"string\"],\"default\":null,\"name\":\"AdmId\"},{\"name\":\"AdmSource\",\"default\":null,\"type\":[\"null\",\"string\"]}]}\"\"\"\n",
    "\n",
    "# verify if my_avro_schema_string is valid avro \n",
    "my_avro_schema = schema = parse(my_avro_schema_string)\n"
   ]
  },
  {
   "cell_type": "code",
   "execution_count": 5,
   "metadata": {},
   "outputs": [],
   "source": [
    "# parse avro schema string to a org.apache.Schema object\n",
    "java_avro_schema=spark._jvm.org.apache.avro.Schema.parse(my_avro_schema_string)\n",
    "\n",
    "# convert to spark struct type\n",
    "spark_java_struct_type=spark._jvm.com.databricks.spark.avro.SchemaConverters.toSqlType(java_avro_schema).dataType()"
   ]
  },
  {
   "cell_type": "code",
   "execution_count": 18,
   "metadata": {},
   "outputs": [],
   "source": [
    "\n",
    "spark_json_string = spark_java_struct_type.json()\n",
    "\n",
    "pyspark_schema = StructType.fromJson(json.loads(spark_json_schema))"
   ]
  },
  {
   "cell_type": "code",
   "execution_count": 20,
   "metadata": {},
   "outputs": [
    {
     "data": {
      "text/plain": [
       "StructType(List(StructField(Name,StringType,true),StructField(DateTime,TimestampType,true),StructField(Age,IntegerType,true)))"
      ]
     },
     "execution_count": 20,
     "metadata": {},
     "output_type": "execute_result"
    }
   ],
   "source": [
    "pyspark_schema_create=StructType([StructField('Name', StringType(), True),\n",
    "                     StructField('DateTime', TimestampType(), True),\n",
    "                     StructField('Age', IntegerType(), True)])\n",
    "pyspark_schema_create"
   ]
  },
  {
   "cell_type": "code",
   "execution_count": 22,
   "metadata": {},
   "outputs": [
    {
     "name": "stdout",
     "output_type": "stream",
     "text": [
      "+----+---------+-----------------+-------------------+--------------------+--------------+-----+---------+\n",
      "|type|vegobjekt|AdmInsertUnixTime|AdmPreviousUnixTime|AdmPartitionKeyValue|AdmSrcFilename|AdmId|AdmSource|\n",
      "+----+---------+-----------------+-------------------+--------------------+--------------+-----+---------+\n",
      "|null|     null|             null|               null|                null|          null| null|     null|\n",
      "|null|     null|             null|               null|                null|          null| null|     null|\n",
      "|null|     null|             null|               null|                null|          null| null|     null|\n",
      "|null|     null|             null|               null|                null|          null| null|     null|\n",
      "|null|     null|             null|               null|                null|          null| null|     null|\n",
      "|null|     null|             null|               null|                null|          null| null|     null|\n",
      "|null|     null|             null|               null|                null|          null| null|     null|\n",
      "|null|     null|             null|               null|                null|          null| null|     null|\n",
      "|null|     null|             null|               null|                null|          null| null|     null|\n",
      "|null|     null|             null|               null|                null|          null| null|     null|\n",
      "|null|     null|             null|               null|                null|          null| null|     null|\n",
      "|null|     null|             null|               null|                null|          null| null|     null|\n",
      "|null|     null|             null|               null|                null|          null| null|     null|\n",
      "|null|     null|             null|               null|                null|          null| null|     null|\n",
      "|null|     null|             null|               null|                null|          null| null|     null|\n",
      "|null|     null|             null|               null|                null|          null| null|     null|\n",
      "|null|     null|             null|               null|                null|          null| null|     null|\n",
      "|null|     null|             null|               null|                null|          null| null|     null|\n",
      "|null|     null|             null|               null|                null|          null| null|     null|\n",
      "|null|     null|             null|               null|                null|          null| null|     null|\n",
      "+----+---------+-----------------+-------------------+--------------------+--------------+-----+---------+\n",
      "only showing top 20 rows\n",
      "\n"
     ]
    }
   ],
   "source": [
    "# The loaded parquet does not correspond to schema, thus \"null\", but shows the schema works\n",
    "df = spark.read.schema(pyspark_schema).parquet(\"/tmp/fno_parquet_data/example\")\n",
    "df.show()\n"
   ]
  },
  {
   "cell_type": "code",
   "execution_count": 12,
   "metadata": {},
   "outputs": [],
   "source": [
    "spark.stop()"
   ]
  }
 ],
 "metadata": {
  "kernelspec": {
   "display_name": "Python 2",
   "language": "python",
   "name": "python2"
  },
  "language_info": {
   "codemirror_mode": {
    "name": "ipython",
    "version": 2
   },
   "file_extension": ".py",
   "mimetype": "text/x-python",
   "name": "python",
   "nbconvert_exporter": "python",
   "pygments_lexer": "ipython2",
   "version": "2.7.12"
  }
 },
 "nbformat": 4,
 "nbformat_minor": 2
}
